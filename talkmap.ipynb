{
 "cells": [
  {
   "cell_type": "markdown",
   "metadata": {},
   "source": [
    "# Leaflet cluster map of talk locations\n",
    "\n",
    "Run this from the _talks/ directory, which contains .md files of all your talks. This scrapes the location YAML field from each .md file, geolocates it with geopy/Nominatim, and uses the getorg library to output data, HTML, and Javascript for a standalone cluster map."
   ]
  },
  {
   "cell_type": "code",
   "execution_count": 1,
   "metadata": {},
   "outputs": [
    {
     "name": "stdout",
     "output_type": "stream",
     "text": [
      "Requirement already up-to-date: getorg in /Users/sedlazec/miniconda2/lib/python2.7/site-packages\n",
      "Requirement already up-to-date: pygithub in /Users/sedlazec/miniconda2/lib/python2.7/site-packages (from getorg)\n",
      "Requirement already up-to-date: retrying in /Users/sedlazec/miniconda2/lib/python2.7/site-packages (from getorg)\n",
      "Requirement already up-to-date: geopy in /Users/sedlazec/miniconda2/lib/python2.7/site-packages (from getorg)\n",
      "Requirement already up-to-date: pyjwt in /Users/sedlazec/miniconda2/lib/python2.7/site-packages (from pygithub->getorg)\n",
      "Requirement already up-to-date: six>=1.7.0 in /Users/sedlazec/miniconda2/lib/python2.7/site-packages (from retrying->getorg)\n",
      "IPywidgets and ipyleaflet support enabled.\n"
     ]
    }
   ],
   "source": [
    "!pip install getorg --upgrade\n",
    "import glob\n",
    "import getorg\n",
    "from geopy import Nominatim"
   ]
  },
  {
   "cell_type": "code",
   "execution_count": 2,
   "metadata": {
    "collapsed": true
   },
   "outputs": [],
   "source": [
    "g = glob.glob(\"_talks/*.md\")"
   ]
  },
  {
   "cell_type": "code",
   "execution_count": 3,
   "metadata": {
    "collapsed": true
   },
   "outputs": [],
   "source": [
    "geocoder = Nominatim()\n",
    "location_dict = {}\n",
    "location = \"\"\n",
    "permalink = \"\"\n",
    "title = \"\""
   ]
  },
  {
   "cell_type": "code",
   "execution_count": 4,
   "metadata": {},
   "outputs": [
    {
     "name": "stdout",
     "output_type": "stream",
     "text": [
      "('Munich, Germany', '\\n', Location((48.1371079, 11.5753822, 0.0)))\n",
      "('Vienna, Austria', '\\n', Location((48.2083537, 16.3725042, 0.0)))\n",
      "('Vienna, Austria', '\\n', Location((48.2083537, 16.3725042, 0.0)))\n",
      "('Vienna, Austria', '\\n', Location((48.2083537, 16.3725042, 0.0)))\n",
      "('Ploen, Germany', '\\n', Location((54.158082, 10.41771, 0.0)))\n",
      "('London, UK', '\\n', Location((51.5073219, -0.1276474, 0.0)))\n",
      "('Cold Spring Harbor, USA', '\\n', Location((40.8714873, -73.456788, 0.0)))\n",
      "('Cold Spring Harbor, USA', '\\n', Location((40.8714873, -73.456788, 0.0)))\n",
      "('Worcester, USA', '\\n', Location((42.2625932, -71.8022934, 0.0)))\n",
      "('Baltimore, USA', '\\n', Location((39.2908816, -76.610759, 0.0)))\n",
      "('Vienna, Austria', '\\n', Location((48.2083537, 16.3725042, 0.0)))\n",
      "('Lausanne, Switzerland', '\\n', Location((46.5218269, 6.6327025, 0.0)))\n",
      "('Ploen, Germany', '\\n', Location((54.158082, 10.41771, 0.0)))\n",
      "('London, UK', '\\n', Location((51.5073219, -0.1276474, 0.0)))\n"
     ]
    }
   ],
   "source": [
    "\n",
    "for file in g:\n",
    "    with open(file, 'r') as f:\n",
    "        lines = f.read()\n",
    "        if lines.find('location: \"') > 1:\n",
    "            loc_start = lines.find('location: \"') + 11\n",
    "            lines_trim = lines[loc_start:]\n",
    "            loc_end = lines_trim.find('\"')\n",
    "            location = lines_trim[:loc_end]\n",
    "                            \n",
    "           \n",
    "        location_dict[location] = geocoder.geocode(location)\n",
    "        print(location, \"\\n\", location_dict[location])\n"
   ]
  },
  {
   "cell_type": "code",
   "execution_count": 5,
   "metadata": {},
   "outputs": [
    {
     "data": {
      "text/plain": [
       "'Written map to ../talkmap/'"
      ]
     },
     "execution_count": 5,
     "metadata": {},
     "output_type": "execute_result"
    }
   ],
   "source": [
    "m = getorg.orgmap.create_map_obj()\n",
    "getorg.orgmap.output_html_cluster_map(location_dict, folder_name=\"talkmap\", hashed_usernames=False)"
   ]
  },
  {
   "cell_type": "code",
   "execution_count": null,
   "metadata": {
    "collapsed": true
   },
   "outputs": [],
   "source": []
  }
 ],
 "metadata": {
  "anaconda-cloud": {},
  "kernelspec": {
   "display_name": "Python 2",
   "language": "python",
   "name": "python2"
  },
  "language_info": {
   "codemirror_mode": {
    "name": "ipython",
    "version": 2
   },
   "file_extension": ".py",
   "mimetype": "text/x-python",
   "name": "python",
   "nbconvert_exporter": "python",
   "pygments_lexer": "ipython2",
   "version": "2.7.13"
  }
 },
 "nbformat": 4,
 "nbformat_minor": 1
}
